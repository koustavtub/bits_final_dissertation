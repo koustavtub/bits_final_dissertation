{
  "nbformat": 4,
  "nbformat_minor": 0,
  "metadata": {
    "colab": {
      "name": "Untitled0.ipynb",
      "provenance": [],
      "collapsed_sections": []
    },
    "kernelspec": {
      "name": "python3",
      "display_name": "Python 3"
    }
  },
  "cells": [
    {
      "cell_type": "code",
      "metadata": {
        "colab": {
          "base_uri": "https://localhost:8080/"
        },
        "id": "_2HtpIN2eT9-",
        "outputId": "c280efae-cc24-4bdb-ba74-768c1402f468"
      },
      "source": [
        "!pip install haversine"
      ],
      "execution_count": null,
      "outputs": [
        {
          "output_type": "stream",
          "text": [
            "Collecting haversine\n",
            "  Downloading https://files.pythonhosted.org/packages/f4/52/a13286844780c7b1740edbbee8a8f0524e2a6d51c068b59dda39a6a119f5/haversine-2.3.0-py2.py3-none-any.whl\n",
            "Installing collected packages: haversine\n",
            "Successfully installed haversine-2.3.0\n"
          ],
          "name": "stdout"
        }
      ]
    },
    {
      "cell_type": "code",
      "metadata": {
        "colab": {
          "base_uri": "https://localhost:8080/"
        },
        "id": "CY9Ys81wBmQQ",
        "outputId": "3ea695a0-8c85-46f0-e71f-0df7ddfe4047"
      },
      "source": [
        "from google.colab import drive\n",
        "drive.mount('/content/drive')"
      ],
      "execution_count": 1,
      "outputs": [
        {
          "output_type": "stream",
          "text": [
            "Go to this URL in a browser: https://accounts.google.com/o/oauth2/auth?client_id=947318989803-6bn6qk8qdgf4n4g3pfee6491hc0brc4i.apps.googleusercontent.com&redirect_uri=urn%3aietf%3awg%3aoauth%3a2.0%3aoob&scope=email%20https%3a%2f%2fwww.googleapis.com%2fauth%2fdocs.test%20https%3a%2f%2fwww.googleapis.com%2fauth%2fdrive%20https%3a%2f%2fwww.googleapis.com%2fauth%2fdrive.photos.readonly%20https%3a%2f%2fwww.googleapis.com%2fauth%2fpeopleapi.readonly%20https%3a%2f%2fwww.googleapis.com%2fauth%2fdrive.activity.readonly%20https%3a%2f%2fwww.googleapis.com%2fauth%2fexperimentsandconfigs%20https%3a%2f%2fwww.googleapis.com%2fauth%2fphotos.native&response_type=code\n",
            "\n",
            "Enter your authorization code:\n",
            "4/1AY0e-g4sJnAYp7SycHLnqoB46eaWDU8LwytVLE6qvus-ri2d3AK8yZwAugQ\n",
            "Mounted at /content/drive\n"
          ],
          "name": "stdout"
        }
      ]
    },
    {
      "cell_type": "code",
      "metadata": {
        "colab": {
          "base_uri": "https://localhost:8080/"
        },
        "id": "H2dsnMxTeiin",
        "outputId": "bac72134-c44d-4457-9f09-c1b5d9b2d72f"
      },
      "source": [
        "a['BORO'].value_counts()\n",
        "\n",
        "lat,lon -> spatial_anchor\n"
      ],
      "execution_count": null,
      "outputs": [
        {
          "output_type": "execute_result",
          "data": {
            "text/plain": [
              "Manhattan        180902\n",
              "Queens            41075\n",
              "Brooklyn          39835\n",
              "Bronx             21223\n",
              "Staten Island      5164\n",
              "Name: BORO, dtype: int64"
            ]
          },
          "metadata": {
            "tags": []
          },
          "execution_count": 8
        }
      ]
    },
    {
      "cell_type": "code",
      "metadata": {
        "colab": {
          "base_uri": "https://localhost:8080/",
          "height": 339
        },
        "id": "nf5qs1doe9dy",
        "outputId": "24cd1be5-c7db-4058-ebc0-ba26f4f21b26"
      },
      "source": [
        "a['BORO'].value_counts().plot(kind='bar')"
      ],
      "execution_count": null,
      "outputs": [
        {
          "output_type": "execute_result",
          "data": {
            "text/plain": [
              "<matplotlib.axes._subplots.AxesSubplot at 0x7f76f3e9bc10>"
            ]
          },
          "metadata": {
            "tags": []
          },
          "execution_count": 11
        },
        {
          "output_type": "display_data",
          "data": {
            "image/png": "[encoded data removed]",
            "text/plain": [
              "<Figure size 432x288 with 1 Axes>"
            ]
          },
          "metadata": {
            "tags": [],
            "needs_background": "light"
          }
        }
      ]
    },
    {
      "cell_type": "code",
      "metadata": {
        "colab": {
          "base_uri": "https://localhost:8080/"
        },
        "id": "9uYMEMePfDCu",
        "outputId": "6387328c-7d52-4d81-e9a3-6f96231488d9"
      },
      "source": [
        "pip install gpxpy"
      ],
      "execution_count": null,
      "outputs": [
        {
          "output_type": "stream",
          "text": [
            "Collecting gpxpy\n",
            "\u001b[?25l  Downloading https://files.pythonhosted.org/packages/dd/23/a1c04fb3ea8d57d4b46cf2956c99a62dfbe009bbe091babeef90cc3d0ef6/gpxpy-1.4.2.tar.gz (105kB)\n",
            "\r\u001b[K     |███                             | 10kB 13.9MB/s eta 0:00:01\r\u001b[K     |██████▏                         | 20kB 12.7MB/s eta 0:00:01\r\u001b[K     |█████████▎                      | 30kB 8.5MB/s eta 0:00:01\r\u001b[K     |████████████▍                   | 40kB 7.4MB/s eta 0:00:01\r\u001b[K     |███████████████▌                | 51kB 4.6MB/s eta 0:00:01\r\u001b[K     |██████████████████▋             | 61kB 5.1MB/s eta 0:00:01\r\u001b[K     |█████████████████████▊          | 71kB 5.0MB/s eta 0:00:01\r\u001b[K     |████████████████████████▉       | 81kB 5.4MB/s eta 0:00:01\r\u001b[K     |████████████████████████████    | 92kB 5.1MB/s eta 0:00:01\r\u001b[K     |███████████████████████████████ | 102kB 4.4MB/s eta 0:00:01\r\u001b[K     |████████████████████████████████| 112kB 4.4MB/s \n",
            "\u001b[?25hBuilding wheels for collected packages: gpxpy\n",
            "  Building wheel for gpxpy (setup.py) ... \u001b[?25l\u001b[?25hdone\n",
            "  Created wheel for gpxpy: filename=gpxpy-1.4.2-cp37-none-any.whl size=42545 sha256=d9cb9b218d7670f8f494479927d2921486a099855db014cfa3c5d2c0bc1fe4e5\n",
            "  Stored in directory: /root/.cache/pip/wheels/d9/df/ed/b52985999b3967fa0ef8de22b3dc8ad3494ce3380d5328dd0f\n",
            "Successfully built gpxpy\n",
            "Installing collected packages: gpxpy\n",
            "Successfully installed gpxpy-1.4.2\n"
          ],
          "name": "stdout"
        }
      ]
    },
    {
      "cell_type": "code",
      "metadata": {
        "id": "A8AzRqrEjHCd"
      },
      "source": [
        "#For each lat-lon (row):\n",
        "  #find:\n",
        "      #all places nearby distance normalized? \n",
        "      #traffic?\n",
        "\n",
        "\n",
        "      #distance_to_nearest_intersection\n",
        "      #nearest link properties:\n",
        "          #functional class\n",
        "          #dot\n",
        "          #speed limit\n",
        "          #lane count\n",
        "          #anything else of relevance ???\n",
        "\n",
        "Then X=[lat,lon,.....others]\n",
        " Y=[Kiosk_class (halucinated?)]\n",
        "\n",
        " run unsupervised clustering (nearest n-neighbors)\n",
        "\n",
        "X = [0,0.5,0.0,0.2.......]\n",
        "    [0,0.3,0.0,0.2.......]\n",
        "\n",
        "\n",
        "    [0,0.9,0.12,0.6......]"
      ],
      "execution_count": null,
      "outputs": []
    },
    {
      "cell_type": "code",
      "metadata": {
        "id": "n3ydylfr-epH"
      },
      "source": [
        "import matplotlib.pyplot as plt\n",
        "from sklearn.cluster import KMeans\n",
        "import pandas as pd\n",
        "import numpy as np\n"
      ],
      "execution_count": 3,
      "outputs": []
    },
    {
      "cell_type": "code",
      "metadata": {
        "id": "akYhL9XZcSZH"
      },
      "source": [
        "kmeans = KMeans(8)"
      ],
      "execution_count": null,
      "outputs": []
    },
    {
      "cell_type": "code",
      "metadata": {
        "id": "wm1bqBXadCsC",
        "colab": {
          "base_uri": "https://localhost:8080/",
          "height": 293
        },
        "outputId": "d1d67423-efb8-4089-c790-ef30854c3294"
      },
      "source": [
        "elbow = pd.DataFrame(columns=['k','inertia'])\n",
        "K = range(1,15)\n",
        "sse = []\n",
        "for k in K:\n",
        "    kmeanModel = KMeans(n_clusters=k)\n",
        "    kmeanModel.fit(df)\n",
        "    elbow = elbow.append({'k':k,'inertia':kmeanModel.inertia_},ignore_index=True)\n",
        "    sse.append(kmeanModel.inertia_)\n",
        "elbow.plot()"
      ],
      "execution_count": null,
      "outputs": [
        {
          "output_type": "execute_result",
          "data": {
            "text/plain": [
              "<matplotlib.axes._subplots.AxesSubplot at 0x7fc9fc4851d0>"
            ]
          },
          "metadata": {
            "tags": []
          },
          "execution_count": 20
        },
        {
          "output_type": "display_data",
          "data": {
            "image/png": "[encoded data removed]",
            "text/plain": [
              "<Figure size 432x288 with 1 Axes>"
            ]
          },
          "metadata": {
            "tags": [],
            "needs_background": "light"
          }
        }
      ]
    },
    {
      "cell_type": "code",
      "metadata": {
        "id": "MR41L0jEMI7q"
      },
      "source": [
        "kmeans = KMeans(n_clusters=4)\n",
        "kmeans.fit(newdf)\n",
        "labels=kmeans.predict(df)\n",
        "df['labels']=labels\n",
        "centroids = kmeans.cluster_centers_\n",
        "print(centroids)"
      ],
      "execution_count": null,
      "outputs": []
    },
    {
      "cell_type": "code",
      "metadata": {
        "colab": {
          "base_uri": "https://localhost:8080/"
        },
        "id": "zdJ6UVmHh69-",
        "outputId": "e2e0ea95-9783-4e63-b733-bfd01b783c04"
      },
      "source": [
        "centroids = kmeans.cluster_centers_\n",
        "print(centroids)"
      ],
      "execution_count": null,
      "outputs": [
        {
          "output_type": "stream",
          "text": [
            "[[ 2.99373055e+01  3.57030347e+01  2.74455313e-01 ...  0.00000000e+00\n",
            "   0.00000000e+00  1.03034682e+01]\n",
            " [ 1.55378455e+01  3.23040650e+01 -7.97695243e-14 ...  0.00000000e+00\n",
            "   0.00000000e+00  5.50642276e+00]\n",
            " [ 5.32142977e+00  6.98705404e+00  2.65543562e-01 ...  0.00000000e+00\n",
            "   0.00000000e+00  1.61528632e+00]\n",
            " [ 1.21214355e+01  1.61159059e+01  9.16549207e-01 ...  0.00000000e+00\n",
            "   0.00000000e+00  5.72897466e+00]]\n"
          ],
          "name": "stdout"
        }
      ]
    },
    {
      "cell_type": "code",
      "metadata": {
        "id": "QHX9C9A8Nuks"
      },
      "source": [
        "for idx,row in df.iterrows():\n",
        "  #print(row['labels'])"
      ],
      "execution_count": null,
      "outputs": []
    },
    {
      "cell_type": "code",
      "metadata": {
        "id": "xwxfcnAlF7JR"
      },
      "source": [
        "full_df = pd.read_csv('/content/drive/MyDrive/Datasets/places.csv')\n",
        "full_df = full_df.dropna()\n",
        "full_df = full_df.drop_duplicates()\n",
        "df = full_df[[each for each in full_df.columns[5:] if each not in [' ','']]]\n",
        "\n",
        "kmeans = KMeans(n_clusters=4)\n",
        "kmeans.fit(df)\n",
        "\n",
        "labels = kmeans.predict(df)\n",
        "full_df['labels']=labels\n",
        "centroids = kmeans.cluster_centers_\n",
        "# print(centroids)"
      ],
      "execution_count": 5,
      "outputs": []
    },
    {
      "cell_type": "code",
      "metadata": {
        "id": "z3iLPp5uaVUv"
      },
      "source": [
        "\n",
        "distances=[]\n",
        "for idx,row in full_df.iterrows():\n",
        "  centre=row['labels']\n",
        "  distances.append(np.linalg.norm(row[5:409] - centroids[centre]))\n",
        "full_df['distance']=distances\n",
        "  "
      ],
      "execution_count": 9,
      "outputs": []
    },
    {
      "cell_type": "code",
      "metadata": {
        "id": "9sNHOGMHF5a_"
      },
      "source": [
        "sorted_df=full_df.sort_values(['labels','distance']).groupby('labels')"
      ],
      "execution_count": 10,
      "outputs": []
    },
    {
      "cell_type": "code",
      "metadata": {
        "id": "lCq_SANOXWF9"
      },
      "source": [
        "sorted_df.head(15).to_csv('investigate.csv',index=False)"
      ],
      "execution_count": 14,
      "outputs": []
    },
    {
      "cell_type": "markdown",
      "metadata": {
        "id": "ty_fntT1GXmS"
      },
      "source": [
        "- Iter over Original df, extract columns for kmeans\n",
        "- run .predict() on extracted columns\n",
        "- get labels, centroids\n",
        "- calc dist between extracted columns and centroids\n",
        "- store dist in new column in the row\n",
        "## Next\n",
        "- Get top 15 locations with least distances per cluster\n",
        "- Manually investigate and derive labels\n",
        "\n"
      ]
    }
  ]
}